{
  "nbformat": 4,
  "nbformat_minor": 0,
  "metadata": {
    "colab": {
      "provenance": [],
      "collapsed_sections": [],
      "include_colab_link": true
    },
    "kernelspec": {
      "name": "python3",
      "display_name": "Python 3"
    },
    "language_info": {
      "name": "python"
    }
  },
  "cells": [
    {
      "cell_type": "markdown",
      "metadata": {
        "id": "view-in-github",
        "colab_type": "text"
      },
      "source": [
        "<a href=\"https://colab.research.google.com/github/waccasuzair/lab_06/blob/main/lab_13_10.ipynb\" target=\"_parent\"><img src=\"https://colab.research.google.com/assets/colab-badge.svg\" alt=\"Open In Colab\"/></a>"
      ]
    },
    {
      "cell_type": "markdown",
      "source": [
        "# Comment"
      ],
      "metadata": {
        "id": "e-BTzf8INDum"
      }
    },
    {
      "cell_type": "code",
      "execution_count": null,
      "metadata": {
        "colab": {
          "base_uri": "https://localhost:8080/",
          "height": 35
        },
        "id": "VN2fP9r467eJ",
        "outputId": "8a5a1c51-6ff0-4741-bb08-ca03ce5bf76d"
      },
      "outputs": [
        {
          "output_type": "execute_result",
          "data": {
            "text/plain": [
              "' multiline \\ncomments\\n'"
            ],
            "application/vnd.google.colaboratory.intrinsic+json": {
              "type": "string"
            }
          },
          "metadata": {},
          "execution_count": 26
        }
      ],
      "source": [
        "# comment ctrl + /\n",
        "\n",
        "\n",
        "\n",
        "\"\"\" multiline \n",
        "comments\n",
        "\"\"\"\n"
      ]
    },
    {
      "cell_type": "code",
      "source": [
        "#exercise:1-- List 3 usage of comments in form of comments\n",
        "#code here"
      ],
      "metadata": {
        "id": "6L3MAQERD5YA"
      },
      "execution_count": null,
      "outputs": []
    },
    {
      "cell_type": "markdown",
      "source": [
        "# print statement"
      ],
      "metadata": {
        "id": "n5_30u3P0sQd"
      }
    },
    {
      "cell_type": "code",
      "source": [
        "print(\"testing dsaf fsad\")\n",
        "\n",
        "abc = 10\n",
        "\n",
        "print(abc)\n",
        "\n",
        "print(abc,\"qwerty\",abc)\n",
        "\n",
        "print(f'abc = {abc}') # fstring"
      ],
      "metadata": {
        "id": "ZcFpLaIr0vH1",
        "colab": {
          "base_uri": "https://localhost:8080/"
        },
        "outputId": "28bd9c4a-162c-4ee1-e9f3-c81692653b48"
      },
      "execution_count": null,
      "outputs": [
        {
          "output_type": "stream",
          "name": "stdout",
          "text": [
            "testing dsaf fsad\n",
            "10\n",
            "10 qwerty 10\n",
            "abc = 10\n"
          ]
        }
      ]
    },
    {
      "cell_type": "code",
      "source": [
        "#exercise:2-- write a code to print your name\n",
        "\n",
        "print(\"Waqas Uzair\")"
      ],
      "metadata": {
        "id": "QgViVbpeENue",
        "outputId": "0cc5d022-17f4-4a20-fb94-50ff2677edda",
        "colab": {
          "base_uri": "https://localhost:8080/"
        }
      },
      "execution_count": null,
      "outputs": [
        {
          "output_type": "stream",
          "name": "stdout",
          "text": [
            "Waqas Uzair\n"
          ]
        }
      ]
    },
    {
      "cell_type": "markdown",
      "source": [
        "# Python -> Byte code"
      ],
      "metadata": {
        "id": "df604E7xNTyu"
      }
    },
    {
      "cell_type": "code",
      "source": [
        "\n",
        "def sample_function(a,b):\n",
        "    x = 0\n",
        "    if x == 3:\n",
        "      print(3)\n",
        "    elif x == 0:\n",
        "      x += 1\n",
        "    else:\n",
        "      print(\"Oh no.\")\n",
        "      print(x)\n",
        "    a=a+2\n",
        "    b=a+b\n",
        "    b=b+3\n",
        "    print(b)\n",
        "    a=a+89\n",
        "    return a/b\n",
        "print(sample_function.__code__.co_code)\n",
        "print(list(sample_function.__code__.co_code))"
      ],
      "metadata": {
        "colab": {
          "base_uri": "https://localhost:8080/"
        },
        "id": "98Wn6xYZ-iKl",
        "outputId": "9d601427-7b38-4b7e-e62d-23302fe0d97a"
      },
      "execution_count": null,
      "outputs": [
        {
          "output_type": "stream",
          "name": "stdout",
          "text": [
            "b'd\\x01}\\x02|\\x02d\\x02k\\x02r\\x16t\\x00d\\x02\\x83\\x01\\x01\\x00n\"|\\x02d\\x01k\\x02r(|\\x02d\\x037\\x00}\\x02n\\x10t\\x00d\\x04\\x83\\x01\\x01\\x00t\\x00|\\x02\\x83\\x01\\x01\\x00|\\x00d\\x05\\x17\\x00}\\x00|\\x00|\\x01\\x17\\x00}\\x01|\\x01d\\x02\\x17\\x00}\\x01t\\x00|\\x01\\x83\\x01\\x01\\x00|\\x00d\\x06\\x17\\x00}\\x00|\\x00|\\x01\\x1b\\x00S\\x00'\n",
            "[100, 1, 125, 2, 124, 2, 100, 2, 107, 2, 114, 22, 116, 0, 100, 2, 131, 1, 1, 0, 110, 34, 124, 2, 100, 1, 107, 2, 114, 40, 124, 2, 100, 3, 55, 0, 125, 2, 110, 16, 116, 0, 100, 4, 131, 1, 1, 0, 116, 0, 124, 2, 131, 1, 1, 0, 124, 0, 100, 5, 23, 0, 125, 0, 124, 0, 124, 1, 23, 0, 125, 1, 124, 1, 100, 2, 23, 0, 125, 1, 116, 0, 124, 1, 131, 1, 1, 0, 124, 0, 100, 6, 23, 0, 125, 0, 124, 0, 124, 1, 27, 0, 83, 0]\n"
          ]
        }
      ]
    },
    {
      "cell_type": "markdown",
      "source": [
        "3. Import dissemble"
      ],
      "metadata": {
        "id": "_iRllfURNa0a"
      }
    },
    {
      "cell_type": "code",
      "source": [
        "import dis\n",
        "dis.dis(sample_function)"
      ],
      "metadata": {
        "colab": {
          "base_uri": "https://localhost:8080/"
        },
        "id": "_GNIpSVxRMlr",
        "outputId": "2026a7c9-ed3f-45b3-9f67-a3b945a5a3ec"
      },
      "execution_count": null,
      "outputs": [
        {
          "output_type": "stream",
          "name": "stdout",
          "text": [
            "  2           0 LOAD_CONST               1 (0)\n",
            "              2 STORE_FAST               2 (x)\n",
            "\n",
            "  3           4 LOAD_FAST                2 (x)\n",
            "              6 LOAD_CONST               2 (3)\n",
            "              8 COMPARE_OP               2 (==)\n",
            "             10 POP_JUMP_IF_FALSE       22\n",
            "\n",
            "  4          12 LOAD_GLOBAL              0 (print)\n",
            "             14 LOAD_CONST               2 (3)\n",
            "             16 CALL_FUNCTION            1\n",
            "             18 POP_TOP\n",
            "             20 JUMP_FORWARD            34 (to 56)\n",
            "\n",
            "  5     >>   22 LOAD_FAST                2 (x)\n",
            "             24 LOAD_CONST               1 (0)\n",
            "             26 COMPARE_OP               2 (==)\n",
            "             28 POP_JUMP_IF_FALSE       40\n",
            "\n",
            "  6          30 LOAD_FAST                2 (x)\n",
            "             32 LOAD_CONST               3 (1)\n",
            "             34 INPLACE_ADD\n",
            "             36 STORE_FAST               2 (x)\n",
            "             38 JUMP_FORWARD            16 (to 56)\n",
            "\n",
            "  8     >>   40 LOAD_GLOBAL              0 (print)\n",
            "             42 LOAD_CONST               4 ('Oh no.')\n",
            "             44 CALL_FUNCTION            1\n",
            "             46 POP_TOP\n",
            "\n",
            "  9          48 LOAD_GLOBAL              0 (print)\n",
            "             50 LOAD_FAST                2 (x)\n",
            "             52 CALL_FUNCTION            1\n",
            "             54 POP_TOP\n",
            "\n",
            " 10     >>   56 LOAD_FAST                0 (a)\n",
            "             58 LOAD_CONST               5 (2)\n",
            "             60 BINARY_ADD\n",
            "             62 STORE_FAST               0 (a)\n",
            "\n",
            " 11          64 LOAD_FAST                0 (a)\n",
            "             66 LOAD_FAST                1 (b)\n",
            "             68 BINARY_ADD\n",
            "             70 STORE_FAST               1 (b)\n",
            "\n",
            " 12          72 LOAD_FAST                1 (b)\n",
            "             74 LOAD_CONST               2 (3)\n",
            "             76 BINARY_ADD\n",
            "             78 STORE_FAST               1 (b)\n",
            "\n",
            " 13          80 LOAD_GLOBAL              0 (print)\n",
            "             82 LOAD_FAST                1 (b)\n",
            "             84 CALL_FUNCTION            1\n",
            "             86 POP_TOP\n",
            "\n",
            " 14          88 LOAD_FAST                0 (a)\n",
            "             90 LOAD_CONST               6 (89)\n",
            "             92 BINARY_ADD\n",
            "             94 STORE_FAST               0 (a)\n",
            "\n",
            " 15          96 LOAD_FAST                0 (a)\n",
            "             98 LOAD_FAST                1 (b)\n",
            "            100 BINARY_TRUE_DIVIDE\n",
            "            102 RETURN_VALUE\n"
          ]
        }
      ]
    },
    {
      "cell_type": "code",
      "source": [
        "\n"
      ],
      "metadata": {
        "id": "7TCTOpBtRSB1"
      },
      "execution_count": null,
      "outputs": []
    },
    {
      "cell_type": "code",
      "source": [
        "# exercise 3-- identify byte code for \"b=b+3\" and paste it under\n",
        "\n",
        "\"\"\"\n",
        "              72 LOAD_FAST                1 (b)\n",
        "             74 LOAD_CONST               2 (3)\n",
        "             76 BINARY_ADD\n",
        "             78 STORE_FAST               1 (b)\n",
        "\"\"\""
      ],
      "metadata": {
        "id": "dU6wyUCfE-h1"
      },
      "execution_count": null,
      "outputs": []
    },
    {
      "cell_type": "code",
      "source": [
        "import dis\n",
        "dis.dis(sample_function)"
      ],
      "metadata": {
        "colab": {
          "base_uri": "https://localhost:8080/"
        },
        "outputId": "2026a7c9-ed3f-45b3-9f67-a3b945a5a3ec",
        "id": "hfi9HanIxLmD"
      },
      "execution_count": null,
      "outputs": [
        {
          "output_type": "stream",
          "name": "stdout",
          "text": [
            "  2           0 LOAD_CONST               1 (0)\n",
            "              2 STORE_FAST               2 (x)\n",
            "\n",
            "  3           4 LOAD_FAST                2 (x)\n",
            "              6 LOAD_CONST               2 (3)\n",
            "              8 COMPARE_OP               2 (==)\n",
            "             10 POP_JUMP_IF_FALSE       22\n",
            "\n",
            "  4          12 LOAD_GLOBAL              0 (print)\n",
            "             14 LOAD_CONST               2 (3)\n",
            "             16 CALL_FUNCTION            1\n",
            "             18 POP_TOP\n",
            "             20 JUMP_FORWARD            34 (to 56)\n",
            "\n",
            "  5     >>   22 LOAD_FAST                2 (x)\n",
            "             24 LOAD_CONST               1 (0)\n",
            "             26 COMPARE_OP               2 (==)\n",
            "             28 POP_JUMP_IF_FALSE       40\n",
            "\n",
            "  6          30 LOAD_FAST                2 (x)\n",
            "             32 LOAD_CONST               3 (1)\n",
            "             34 INPLACE_ADD\n",
            "             36 STORE_FAST               2 (x)\n",
            "             38 JUMP_FORWARD            16 (to 56)\n",
            "\n",
            "  8     >>   40 LOAD_GLOBAL              0 (print)\n",
            "             42 LOAD_CONST               4 ('Oh no.')\n",
            "             44 CALL_FUNCTION            1\n",
            "             46 POP_TOP\n",
            "\n",
            "  9          48 LOAD_GLOBAL              0 (print)\n",
            "             50 LOAD_FAST                2 (x)\n",
            "             52 CALL_FUNCTION            1\n",
            "             54 POP_TOP\n",
            "\n",
            " 10     >>   56 LOAD_FAST                0 (a)\n",
            "             58 LOAD_CONST               5 (2)\n",
            "             60 BINARY_ADD\n",
            "             62 STORE_FAST               0 (a)\n",
            "\n",
            " 11          64 LOAD_FAST                0 (a)\n",
            "             66 LOAD_FAST                1 (b)\n",
            "             68 BINARY_ADD\n",
            "             70 STORE_FAST               1 (b)\n",
            "\n",
            " 12          72 LOAD_FAST                1 (b)\n",
            "             74 LOAD_CONST               2 (3)\n",
            "             76 BINARY_ADD\n",
            "             78 STORE_FAST               1 (b)\n",
            "\n",
            " 13          80 LOAD_GLOBAL              0 (print)\n",
            "             82 LOAD_FAST                1 (b)\n",
            "             84 CALL_FUNCTION            1\n",
            "             86 POP_TOP\n",
            "\n",
            " 14          88 LOAD_FAST                0 (a)\n",
            "             90 LOAD_CONST               6 (89)\n",
            "             92 BINARY_ADD\n",
            "             94 STORE_FAST               0 (a)\n",
            "\n",
            " 15          96 LOAD_FAST                0 (a)\n",
            "             98 LOAD_FAST                1 (b)\n",
            "            100 BINARY_TRUE_DIVIDE\n",
            "            102 RETURN_VALUE\n"
          ]
        }
      ]
    },
    {
      "cell_type": "markdown",
      "source": [
        "https://en.wikipedia.org/wiki/X86_instruction_listings\n",
        "\n",
        "x86 instruction set\n"
      ],
      "metadata": {
        "id": "tqcf9kVDM640"
      }
    },
    {
      "cell_type": "code",
      "source": [
        "# interpretor "
      ],
      "metadata": {
        "id": "BLNH6DHN-mGV"
      },
      "execution_count": null,
      "outputs": []
    },
    {
      "cell_type": "code",
      "source": [
        "# editor takes care of the rest to give it a workable graphical interface"
      ],
      "metadata": {
        "id": "-zG7RMCwTS44"
      },
      "execution_count": null,
      "outputs": []
    },
    {
      "cell_type": "code",
      "source": [
        "# variables -- int/long, float/double, string, set, lists, dictionary, dataframes\n",
        "a = 12\n",
        "\n",
        "b = 12.34\n",
        "\n",
        "c = True\n",
        "str1 = \"a bee\"\n",
        "abc = {a,b,str1}\n",
        "tup_abc = (a,b,str1)\n",
        "thisdict = {\n",
        "  \"brand\": \"Ford\",\n",
        "  \"electric\": False,\n",
        "  \"year\": 1964,\n",
        "  \"colors\": [\"red\", \"white\", \"blue\"]\n",
        "} # \"name\": value \n",
        "\n"
      ],
      "metadata": {
        "id": "TDBhWKn-76kO"
      },
      "execution_count": null,
      "outputs": []
    },
    {
      "cell_type": "code",
      "source": [
        "#exercise:4-- intialize a variable to store values for name and age \n",
        "name = \"Waqas\"\n",
        "age =\"44\"\n",
        "\n",
        "print(\"My name is \",name)\n",
        "\n",
        "print(\"My age is \",age)"
      ],
      "metadata": {
        "id": "10rQicOUEZpx",
        "outputId": "98690761-ee2f-4c4b-fda1-32cbef99b0e4",
        "colab": {
          "base_uri": "https://localhost:8080/"
        }
      },
      "execution_count": null,
      "outputs": [
        {
          "output_type": "stream",
          "name": "stdout",
          "text": [
            "My name is  Waqas\n",
            "My age is  44\n"
          ]
        }
      ]
    },
    {
      "cell_type": "code",
      "source": [
        "import pandas as pd\n",
        "\n",
        "pd.DataFrame.from_dict(thisdict)\n"
      ],
      "metadata": {
        "colab": {
          "base_uri": "https://localhost:8080/",
          "height": 143
        },
        "id": "v9LH3-IoZWV5",
        "outputId": "08a2a07b-39f0-4ca2-935b-824b9809cc89"
      },
      "execution_count": null,
      "outputs": [
        {
          "output_type": "execute_result",
          "data": {
            "text/plain": [
              "  brand  electric  year colors\n",
              "0  Ford     False  1964    red\n",
              "1  Ford     False  1964  white\n",
              "2  Ford     False  1964   blue"
            ],
            "text/html": [
              "\n",
              "  <div id=\"df-6e760705-32e1-485f-b808-897444e1a390\">\n",
              "    <div class=\"colab-df-container\">\n",
              "      <div>\n",
              "<style scoped>\n",
              "    .dataframe tbody tr th:only-of-type {\n",
              "        vertical-align: middle;\n",
              "    }\n",
              "\n",
              "    .dataframe tbody tr th {\n",
              "        vertical-align: top;\n",
              "    }\n",
              "\n",
              "    .dataframe thead th {\n",
              "        text-align: right;\n",
              "    }\n",
              "</style>\n",
              "<table border=\"1\" class=\"dataframe\">\n",
              "  <thead>\n",
              "    <tr style=\"text-align: right;\">\n",
              "      <th></th>\n",
              "      <th>brand</th>\n",
              "      <th>electric</th>\n",
              "      <th>year</th>\n",
              "      <th>colors</th>\n",
              "    </tr>\n",
              "  </thead>\n",
              "  <tbody>\n",
              "    <tr>\n",
              "      <th>0</th>\n",
              "      <td>Ford</td>\n",
              "      <td>False</td>\n",
              "      <td>1964</td>\n",
              "      <td>red</td>\n",
              "    </tr>\n",
              "    <tr>\n",
              "      <th>1</th>\n",
              "      <td>Ford</td>\n",
              "      <td>False</td>\n",
              "      <td>1964</td>\n",
              "      <td>white</td>\n",
              "    </tr>\n",
              "    <tr>\n",
              "      <th>2</th>\n",
              "      <td>Ford</td>\n",
              "      <td>False</td>\n",
              "      <td>1964</td>\n",
              "      <td>blue</td>\n",
              "    </tr>\n",
              "  </tbody>\n",
              "</table>\n",
              "</div>\n",
              "      <button class=\"colab-df-convert\" onclick=\"convertToInteractive('df-6e760705-32e1-485f-b808-897444e1a390')\"\n",
              "              title=\"Convert this dataframe to an interactive table.\"\n",
              "              style=\"display:none;\">\n",
              "        \n",
              "  <svg xmlns=\"http://www.w3.org/2000/svg\" height=\"24px\"viewBox=\"0 0 24 24\"\n",
              "       width=\"24px\">\n",
              "    <path d=\"M0 0h24v24H0V0z\" fill=\"none\"/>\n",
              "    <path d=\"M18.56 5.44l.94 2.06.94-2.06 2.06-.94-2.06-.94-.94-2.06-.94 2.06-2.06.94zm-11 1L8.5 8.5l.94-2.06 2.06-.94-2.06-.94L8.5 2.5l-.94 2.06-2.06.94zm10 10l.94 2.06.94-2.06 2.06-.94-2.06-.94-.94-2.06-.94 2.06-2.06.94z\"/><path d=\"M17.41 7.96l-1.37-1.37c-.4-.4-.92-.59-1.43-.59-.52 0-1.04.2-1.43.59L10.3 9.45l-7.72 7.72c-.78.78-.78 2.05 0 2.83L4 21.41c.39.39.9.59 1.41.59.51 0 1.02-.2 1.41-.59l7.78-7.78 2.81-2.81c.8-.78.8-2.07 0-2.86zM5.41 20L4 18.59l7.72-7.72 1.47 1.35L5.41 20z\"/>\n",
              "  </svg>\n",
              "      </button>\n",
              "      \n",
              "  <style>\n",
              "    .colab-df-container {\n",
              "      display:flex;\n",
              "      flex-wrap:wrap;\n",
              "      gap: 12px;\n",
              "    }\n",
              "\n",
              "    .colab-df-convert {\n",
              "      background-color: #E8F0FE;\n",
              "      border: none;\n",
              "      border-radius: 50%;\n",
              "      cursor: pointer;\n",
              "      display: none;\n",
              "      fill: #1967D2;\n",
              "      height: 32px;\n",
              "      padding: 0 0 0 0;\n",
              "      width: 32px;\n",
              "    }\n",
              "\n",
              "    .colab-df-convert:hover {\n",
              "      background-color: #E2EBFA;\n",
              "      box-shadow: 0px 1px 2px rgba(60, 64, 67, 0.3), 0px 1px 3px 1px rgba(60, 64, 67, 0.15);\n",
              "      fill: #174EA6;\n",
              "    }\n",
              "\n",
              "    [theme=dark] .colab-df-convert {\n",
              "      background-color: #3B4455;\n",
              "      fill: #D2E3FC;\n",
              "    }\n",
              "\n",
              "    [theme=dark] .colab-df-convert:hover {\n",
              "      background-color: #434B5C;\n",
              "      box-shadow: 0px 1px 3px 1px rgba(0, 0, 0, 0.15);\n",
              "      filter: drop-shadow(0px 1px 2px rgba(0, 0, 0, 0.3));\n",
              "      fill: #FFFFFF;\n",
              "    }\n",
              "  </style>\n",
              "\n",
              "      <script>\n",
              "        const buttonEl =\n",
              "          document.querySelector('#df-6e760705-32e1-485f-b808-897444e1a390 button.colab-df-convert');\n",
              "        buttonEl.style.display =\n",
              "          google.colab.kernel.accessAllowed ? 'block' : 'none';\n",
              "\n",
              "        async function convertToInteractive(key) {\n",
              "          const element = document.querySelector('#df-6e760705-32e1-485f-b808-897444e1a390');\n",
              "          const dataTable =\n",
              "            await google.colab.kernel.invokeFunction('convertToInteractive',\n",
              "                                                     [key], {});\n",
              "          if (!dataTable) return;\n",
              "\n",
              "          const docLinkHtml = 'Like what you see? Visit the ' +\n",
              "            '<a target=\"_blank\" href=https://colab.research.google.com/notebooks/data_table.ipynb>data table notebook</a>'\n",
              "            + ' to learn more about interactive tables.';\n",
              "          element.innerHTML = '';\n",
              "          dataTable['output_type'] = 'display_data';\n",
              "          await google.colab.output.renderOutput(dataTable, element);\n",
              "          const docLink = document.createElement('div');\n",
              "          docLink.innerHTML = docLinkHtml;\n",
              "          element.appendChild(docLink);\n",
              "        }\n",
              "      </script>\n",
              "    </div>\n",
              "  </div>\n",
              "  "
            ]
          },
          "metadata": {},
          "execution_count": 30
        }
      ]
    },
    {
      "cell_type": "code",
      "source": [
        "# naming conventions\n",
        "\"\"\"\n",
        "The following naming styles are commonly distinguished:\n",
        "\n",
        "a __ single character names, except for specifically allowed cases:\n",
        "\n",
        "        counters or iterators (e.g. i, j, k, v, et al.)\n",
        "        e as an exception identifier in try/except statements.\n",
        "        f as a file handle in with statements\n",
        "        private TypeVars with no constraints (e.g. _T, _U, _V)\n",
        "\n",
        "lower_case_with_underscores __ mostly used\n",
        "\n",
        "\n",
        "UPPER_CASE_WITH_UNDERSCORES   __ global constants\n",
        "\n",
        "CapitalizedWords (or CapWords, or CamelCase – so named because of the bumpy look of its letters [4]). This is also sometimes known as StudlyCaps. __ exception name, class name\n",
        "\n",
        "mixedCase/camelCase (differs from CapitalizedWords by initial lowercase character!)\n",
        "\n",
        "Capitalized_Words_With_Underscores (not common)\n",
        "\n",
        "_single_leading_underscore: weak “internal use” indicator. E.g. from M import * does not import objects whose names start with an underscore.\n",
        "\n",
        "single_trailing_underscore_: used by convention to avoid conflicts with Python keyword, e.g.\n",
        "\n",
        "__double_leading_underscore: when naming a class attribute, invokes name mangling (inside class FooBar, __boo becomes _FooBar__boo; see below).\n",
        "\n",
        "__double_leading_and_trailing_underscore__: “magic” objects or attributes that live in user-controlled namespaces. E.g. __init__, __import__ or __file__. Never invent such names; only use them as documented. reserved by Python\n",
        "          dir(print)\n",
        "\n",
        "\"\"\"\n",
        "\n",
        "# coding conventions\n",
        "# Follow conventions of the language\n",
        "# Your Code must not break in any condition\n"
      ],
      "metadata": {
        "id": "qVq2bN_A9H7P"
      },
      "execution_count": null,
      "outputs": []
    },
    {
      "cell_type": "code",
      "source": [
        "# type casting\n",
        "\n",
        "a = 12 # integer\n",
        "\n",
        "print(type(a))\n",
        "\n",
        "b = 12.34 # float\n",
        "\n",
        "print(\"b is a \",type(b))\n",
        "\n",
        "ib = int(b) # type conversion from float to integer\n",
        "\n",
        "print(ib)\n",
        "\n",
        "print(\"type \",type(ib))\n",
        "\n"
      ],
      "metadata": {
        "id": "7Eze1dEo8TLN",
        "outputId": "ab305068-8a85-415a-9462-956a252f6fb5",
        "colab": {
          "base_uri": "https://localhost:8080/"
        }
      },
      "execution_count": null,
      "outputs": [
        {
          "output_type": "stream",
          "name": "stdout",
          "text": [
            "<class 'int'>\n",
            "b is a  <class 'float'>\n",
            "12\n",
            "type  <class 'int'>\n"
          ]
        }
      ]
    },
    {
      "cell_type": "code",
      "source": [
        "import string\n",
        "# exercise: initialize an integer and type cast it into a string\n",
        "\n",
        "integer1 = 123\n",
        "\n",
        "print(\"integer1 is \",type(integer1))\n",
        "\n",
        "str2 = f'integer1'\n",
        "\n",
        "print(\"str2 is \", type(str2))\n",
        "\n"
      ],
      "metadata": {
        "id": "Nnf0vZhf0kQI",
        "outputId": "65990e86-ed9c-4455-f22e-1c784d80c8c5",
        "colab": {
          "base_uri": "https://localhost:8080/",
          "height": 242
        }
      },
      "execution_count": null,
      "outputs": [
        {
          "output_type": "error",
          "ename": "TypeError",
          "evalue": "ignored",
          "traceback": [
            "\u001b[0;31m---------------------------------------------------------------------------\u001b[0m",
            "\u001b[0;31mTypeError\u001b[0m                                 Traceback (most recent call last)",
            "\u001b[0;32m<ipython-input-50-4ea7a4a7d52e>\u001b[0m in \u001b[0;36m<module>\u001b[0;34m\u001b[0m\n\u001b[1;32m      3\u001b[0m \u001b[0;34m\u001b[0m\u001b[0m\n\u001b[1;32m      4\u001b[0m \u001b[0minteger1\u001b[0m \u001b[0;34m=\u001b[0m \u001b[0;36m123\u001b[0m\u001b[0;34m\u001b[0m\u001b[0;34m\u001b[0m\u001b[0m\n\u001b[0;32m----> 5\u001b[0;31m \u001b[0mabc\u001b[0m \u001b[0;34m=\u001b[0m \u001b[0mstr\u001b[0m\u001b[0;34m(\u001b[0m\u001b[0minteger1\u001b[0m\u001b[0;34m)\u001b[0m\u001b[0;34m\u001b[0m\u001b[0;34m\u001b[0m\u001b[0m\n\u001b[0m\u001b[1;32m      6\u001b[0m \u001b[0mprint\u001b[0m\u001b[0;34m(\u001b[0m\u001b[0;34m)\u001b[0m\u001b[0;34m\u001b[0m\u001b[0;34m\u001b[0m\u001b[0m\n\u001b[1;32m      7\u001b[0m \u001b[0mprint\u001b[0m\u001b[0;34m(\u001b[0m\u001b[0;34m\"integer1 is \"\u001b[0m\u001b[0;34m,\u001b[0m\u001b[0mtype\u001b[0m\u001b[0;34m(\u001b[0m\u001b[0minteger1\u001b[0m\u001b[0;34m)\u001b[0m\u001b[0;34m)\u001b[0m\u001b[0;34m\u001b[0m\u001b[0;34m\u001b[0m\u001b[0m\n",
            "\u001b[0;31mTypeError\u001b[0m: 'str' object is not callable"
          ]
        }
      ]
    },
    {
      "cell_type": "code",
      "source": [
        "# error handling-- try else , try finally , raise\n",
        "\n",
        "\n",
        "str= \"wqere\"\n",
        "r=45\n",
        "\n",
        "try:\n",
        "    t=ewr+str\n",
        "except TypeError:\n",
        "  raise TypeError(\"Only integers are allowed\")\n",
        "except NameError as e:\n",
        "  print(\"name error\\n\",e)\n",
        "except:\n",
        "  print(\"no exception\")\n",
        "finally:\n",
        "  print(\"nothing2\")\n",
        "\n"
      ],
      "metadata": {
        "id": "JLHdFH118cPe",
        "outputId": "aaed0045-49fc-4aa0-90e2-301a29d205a0",
        "colab": {
          "base_uri": "https://localhost:8080/"
        }
      },
      "execution_count": null,
      "outputs": [
        {
          "output_type": "stream",
          "name": "stdout",
          "text": [
            "name error\n",
            " name 'ewr' is not defined\n",
            "nothing2\n"
          ]
        }
      ]
    },
    {
      "cell_type": "code",
      "source": [
        "# exercise 5: -- google and list six different types of error in python\n",
        "\n",
        "\n",
        "\"\"\"\n",
        "ArithmeticError-\tRaised when an error occurs in numeric calculations\n",
        "AssertionError-\tRaised when an assert statement fails\n",
        "AttributeError-\tRaised when attribute reference or assignment fails\n",
        "EOFError-\tRaised when the input() method hits an \"end of file\" condition (EOF)\n",
        "FloatingPointError-\tRaised when a floating point calculation fails\n",
        "GeneratorExit-\tRaised when a generator is closed (with the close() method)\n",
        "ImportError-\tRaised when an imported module does not exist\n",
        "IndentationError-\tRaised when indendation is not correct\n",
        "IndexError-\tRaised when an index of a sequence does not exist\n",
        "KeyError-\tRaised when a key does not exist in a dictionary\n",
        "KeyboardInterrupt-\tRaised when the user presses Ctrl+c, Ctrl+z or Delete\n",
        "LookupError-\tRaised when errors raised cant be found\n",
        "MemoryError-\tRaised when a program runs out of memory\n",
        "NameError-\tRaised when a variable does not exist\n",
        "NotImplementedError-\tRaised when an abstract method requires an inherited class to override the method\n",
        "OSError-\tRaised when a system related operation causes an error\n",
        "OverflowError-\tRaised when the result of a numeric calculation is too large\n",
        "ReferenceError-\tRaised when a weak reference object does not exist\n",
        "RuntimeError-\tRaised when an error occurs that do not belong to any specific expections\n",
        "StopIteration-\tRaised when the next() method of an iterator has no further values\n",
        "SyntaxError-\tRaised when a syntax error occurs\n",
        "TabError-\tRaised when indentation consists of tabs or spaces\n",
        "SystemError-\tRaised when a system error occurs\n",
        "SystemExit-\tRaised when the sys.exit() function is called\n",
        "TypeError-\tRaised when two different types are combined\n",
        "UnboundLocalError-\tRaised when a local variable is referenced before assignment\n",
        "UnicodeError-\tRaised when a unicode problem occurs\n",
        "UnicodeEncodeError-\tRaised when a unicode encoding problem occurs\n",
        "UnicodeDecodeError-\tRaised when a unicode decoding problem occurs\n",
        "UnicodeTranslateError-\tRaised when a unicode translation problem occurs\n",
        "ValueError-\tRaised when there is a wrong value in a specified data type\n",
        "ZeroDivisionError-\tRaised when the second operator in a division is zero\n",
        "\n",
        "\"\"\""
      ],
      "metadata": {
        "id": "nbNUhX0XOvAG"
      },
      "execution_count": null,
      "outputs": []
    },
    {
      "cell_type": "code",
      "source": [
        "# identify variables and functions for a class type\n",
        "dir(r)\n"
      ],
      "metadata": {
        "id": "3HG8phpVFbG4",
        "outputId": "8d289979-22ba-4bf7-9840-7c0dee1e9ef2",
        "colab": {
          "base_uri": "https://localhost:8080/"
        }
      },
      "execution_count": null,
      "outputs": [
        {
          "output_type": "execute_result",
          "data": {
            "text/plain": [
              "['__abs__',\n",
              " '__add__',\n",
              " '__and__',\n",
              " '__bool__',\n",
              " '__ceil__',\n",
              " '__class__',\n",
              " '__delattr__',\n",
              " '__dir__',\n",
              " '__divmod__',\n",
              " '__doc__',\n",
              " '__eq__',\n",
              " '__float__',\n",
              " '__floor__',\n",
              " '__floordiv__',\n",
              " '__format__',\n",
              " '__ge__',\n",
              " '__getattribute__',\n",
              " '__getnewargs__',\n",
              " '__gt__',\n",
              " '__hash__',\n",
              " '__index__',\n",
              " '__init__',\n",
              " '__init_subclass__',\n",
              " '__int__',\n",
              " '__invert__',\n",
              " '__le__',\n",
              " '__lshift__',\n",
              " '__lt__',\n",
              " '__mod__',\n",
              " '__mul__',\n",
              " '__ne__',\n",
              " '__neg__',\n",
              " '__new__',\n",
              " '__or__',\n",
              " '__pos__',\n",
              " '__pow__',\n",
              " '__radd__',\n",
              " '__rand__',\n",
              " '__rdivmod__',\n",
              " '__reduce__',\n",
              " '__reduce_ex__',\n",
              " '__repr__',\n",
              " '__rfloordiv__',\n",
              " '__rlshift__',\n",
              " '__rmod__',\n",
              " '__rmul__',\n",
              " '__ror__',\n",
              " '__round__',\n",
              " '__rpow__',\n",
              " '__rrshift__',\n",
              " '__rshift__',\n",
              " '__rsub__',\n",
              " '__rtruediv__',\n",
              " '__rxor__',\n",
              " '__setattr__',\n",
              " '__sizeof__',\n",
              " '__str__',\n",
              " '__sub__',\n",
              " '__subclasshook__',\n",
              " '__truediv__',\n",
              " '__trunc__',\n",
              " '__xor__',\n",
              " 'bit_length',\n",
              " 'conjugate',\n",
              " 'denominator',\n",
              " 'from_bytes',\n",
              " 'imag',\n",
              " 'numerator',\n",
              " 'real',\n",
              " 'to_bytes']"
            ]
          },
          "metadata": {},
          "execution_count": 57
        }
      ]
    },
    {
      "cell_type": "code",
      "source": [
        "# exercise 6: explore and write 10 different types of string functions\n",
        "\n",
        "str1 = \"example\"\n",
        "\n",
        "dir(str1)"
      ],
      "metadata": {
        "id": "DmlxdXQZQ3s4",
        "outputId": "75a92b30-0d43-4cab-f278-f6146be54960",
        "colab": {
          "base_uri": "https://localhost:8080/"
        }
      },
      "execution_count": null,
      "outputs": [
        {
          "output_type": "execute_result",
          "data": {
            "text/plain": [
              "['__add__',\n",
              " '__class__',\n",
              " '__contains__',\n",
              " '__delattr__',\n",
              " '__dir__',\n",
              " '__doc__',\n",
              " '__eq__',\n",
              " '__format__',\n",
              " '__ge__',\n",
              " '__getattribute__',\n",
              " '__getitem__',\n",
              " '__getnewargs__',\n",
              " '__gt__',\n",
              " '__hash__',\n",
              " '__init__',\n",
              " '__init_subclass__',\n",
              " '__iter__',\n",
              " '__le__',\n",
              " '__len__',\n",
              " '__lt__',\n",
              " '__mod__',\n",
              " '__mul__',\n",
              " '__ne__',\n",
              " '__new__',\n",
              " '__reduce__',\n",
              " '__reduce_ex__',\n",
              " '__repr__',\n",
              " '__rmod__',\n",
              " '__rmul__',\n",
              " '__setattr__',\n",
              " '__sizeof__',\n",
              " '__str__',\n",
              " '__subclasshook__',\n",
              " 'capitalize',\n",
              " 'casefold',\n",
              " 'center',\n",
              " 'count',\n",
              " 'encode',\n",
              " 'endswith',\n",
              " 'expandtabs',\n",
              " 'find',\n",
              " 'format',\n",
              " 'format_map',\n",
              " 'index',\n",
              " 'isalnum',\n",
              " 'isalpha',\n",
              " 'isascii',\n",
              " 'isdecimal',\n",
              " 'isdigit',\n",
              " 'isidentifier',\n",
              " 'islower',\n",
              " 'isnumeric',\n",
              " 'isprintable',\n",
              " 'isspace',\n",
              " 'istitle',\n",
              " 'isupper',\n",
              " 'join',\n",
              " 'ljust',\n",
              " 'lower',\n",
              " 'lstrip',\n",
              " 'maketrans',\n",
              " 'partition',\n",
              " 'replace',\n",
              " 'rfind',\n",
              " 'rindex',\n",
              " 'rjust',\n",
              " 'rpartition',\n",
              " 'rsplit',\n",
              " 'rstrip',\n",
              " 'split',\n",
              " 'splitlines',\n",
              " 'startswith',\n",
              " 'strip',\n",
              " 'swapcase',\n",
              " 'title',\n",
              " 'translate',\n",
              " 'upper',\n",
              " 'zfill']"
            ]
          },
          "metadata": {},
          "execution_count": 58
        }
      ]
    },
    {
      "cell_type": "code",
      "source": [
        "!pip install tortoise"
      ],
      "metadata": {
        "id": "SpIVYATV6vCv",
        "outputId": "b9556102-9a4b-46f6-f8d6-a505c7831e8a",
        "colab": {
          "base_uri": "https://localhost:8080/"
        }
      },
      "execution_count": null,
      "outputs": [
        {
          "output_type": "stream",
          "name": "stdout",
          "text": [
            "abc\n",
            "appendix-a-higher-education-vet-and-pir-provider-codes-and-names.xlsx\n",
            "data.csv\n",
            "demofile2.txt\n",
            "demofile.txt\n",
            "sample_data\n",
            "something_else\n"
          ]
        }
      ]
    },
    {
      "cell_type": "code",
      "source": [
        "import tortoise\n",
        "# module not found error\n",
        "# using pip\n",
        "# using exclamation"
      ],
      "metadata": {
        "id": "hf6KL7vE5kwD"
      },
      "execution_count": null,
      "outputs": []
    },
    {
      "cell_type": "code",
      "source": [
        "# exercise 7: try installing version 1.21.26 of numpy\n",
        "!pip install numpy==1.21.6"
      ],
      "metadata": {
        "id": "n1t-xQatGVIs",
        "outputId": "272dac3d-549c-4849-d7fd-214bb7324ac0",
        "colab": {
          "base_uri": "https://localhost:8080/"
        }
      },
      "execution_count": null,
      "outputs": [
        {
          "output_type": "stream",
          "name": "stdout",
          "text": [
            "Looking in indexes: https://pypi.org/simple, https://us-python.pkg.dev/colab-wheels/public/simple/\n",
            "Requirement already satisfied: numpy==1.21.6 in /usr/local/lib/python3.7/dist-packages (1.21.6)\n"
          ]
        }
      ]
    },
    {
      "cell_type": "code",
      "source": [
        "# escape characters\n",
        "# \\'\tSingle Quote\t\n",
        "# \\\\\tBackslash\t\n",
        "# \\n\tNew Line\t\n",
        "# \\r\tCarriage Return\t\n",
        "# \\t\tTab\t\n",
        "# \\b\tBackspace\t\n",
        "# \\f\tForm Feed\t  __ used for printer\n",
        "# \\ooo\tOctal value\t\n",
        "# \\xhh\tHex value\n",
        "\n",
        "\n",
        "print(\"line 1 \\n line2\")\n",
        "print(\"a\\x12\\n\\ta\\xab\\n\\t\\ta\\xba\\n\\t\\t\\ta\\xb2\")\n",
        "\n"
      ],
      "metadata": {
        "id": "1UAUE8W38ej2",
        "outputId": "68162b44-f307-406b-ba06-9caee96818d8",
        "colab": {
          "base_uri": "https://localhost:8080/"
        }
      },
      "execution_count": null,
      "outputs": [
        {
          "output_type": "stream",
          "name": "stdout",
          "text": [
            "line 1 \n",
            " line2\n",
            "a\u0012\n",
            "\ta«\n",
            "\t\taº\n",
            "\t\t\ta²\n"
          ]
        }
      ]
    },
    {
      "cell_type": "code",
      "source": [
        "# accessing a folder\n",
        "\n",
        "import os\n",
        "\n",
        "directory=\"abc/ret\"\n",
        "print(os.listdir(directory))\n",
        "\n",
        "\n"
      ],
      "metadata": {
        "id": "CZG8ARFv9m2O",
        "outputId": "4c3d2591-9594-4911-cd1a-11f54d79b783",
        "colab": {
          "base_uri": "https://localhost:8080/"
        }
      },
      "execution_count": null,
      "outputs": [
        {
          "output_type": "stream",
          "name": "stdout",
          "text": [
            "['12.txt', '23.txt', '.ipynb_checkpoints', '34.txt']\n"
          ]
        }
      ]
    },
    {
      "cell_type": "code",
      "source": [
        "# operators, bitwise operators\n",
        "\n",
        "print(True and False)\n",
        "print(True or False)\n",
        "print(True & False)\n",
        "print(True | False)\n"
      ],
      "metadata": {
        "id": "nAng8yYb82m-",
        "outputId": "a6d00431-4513-47ec-abe8-294734e4cd4e",
        "colab": {
          "base_uri": "https://localhost:8080/"
        }
      },
      "execution_count": null,
      "outputs": [
        {
          "output_type": "stream",
          "name": "stdout",
          "text": [
            "False\n",
            "True\n",
            "False\n",
            "True\n"
          ]
        }
      ]
    },
    {
      "cell_type": "code",
      "source": [
        "# exercise 6: declare two boolean variables and repeat the above operations using those variables\n",
        "\n",
        "bool_a = True\n",
        "bool_b = False\n",
        "\n",
        "print(bool_a and bool_b)\n",
        "print(bool_a or bool_b)\n",
        "print(bool_a & bool_b)\n",
        "print(bool_a | bool_b)\n"
      ],
      "metadata": {
        "id": "-3M9ujWpRHV4",
        "outputId": "c853121c-81aa-4391-8d12-1f1372de84a5",
        "colab": {
          "base_uri": "https://localhost:8080/"
        }
      },
      "execution_count": null,
      "outputs": [
        {
          "output_type": "stream",
          "name": "stdout",
          "text": [
            "False\n",
            "True\n",
            "False\n",
            "True\n"
          ]
        }
      ]
    },
    {
      "cell_type": "code",
      "source": [
        "# decision if else elif lambda \n",
        "x=90\n",
        "y=30\n",
        "\n",
        "if x>y:\n",
        "  print(\"x>y\")\n",
        "  print(\"multiple\")\n",
        "  print(\"sg\")\n",
        "elif x>103: #else if\n",
        "  print(\"x>103\")\n",
        "elif x>123: #else if\n",
        "  print(\"x>123\")\n",
        "else:\n",
        "  print(\"value of x is \",x)\n",
        "# indentation _tab\n",
        "# dedentation"
      ],
      "metadata": {
        "id": "TVhZnI389Dqd"
      },
      "execution_count": null,
      "outputs": []
    },
    {
      "cell_type": "code",
      "source": [
        "#exercise: declare three floats and compare them with if else statements to find \n",
        "# if the variables are of equal value\n",
        "# Hint: use == for comparison\n",
        "\n",
        "a= 9.0\n",
        "b= 9.0\n",
        "c= 9.0\n",
        "\n",
        "if a==b and b==c:\n",
        "  print(\"All the numbers are equal\")\n",
        "else:\n",
        "  print(\"Numbers are not equal\")\n",
        "\n",
        "\n",
        "\n",
        "print(a==b and b==c)\n",
        "print(not (a==b and b==c))"
      ],
      "metadata": {
        "id": "qZXaUyPlAUjL",
        "outputId": "1b66a9c3-2711-41e3-a408-aff01ed49720",
        "colab": {
          "base_uri": "https://localhost:8080/"
        }
      },
      "execution_count": null,
      "outputs": [
        {
          "output_type": "stream",
          "name": "stdout",
          "text": [
            "All the numbers are equal\n",
            "True\n",
            "False\n"
          ]
        }
      ]
    },
    {
      "cell_type": "code",
      "source": [],
      "metadata": {
        "id": "AmUg1hSaCdmI"
      },
      "execution_count": null,
      "outputs": []
    },
    {
      "cell_type": "code",
      "source": [
        "# exercise 7: Initiate and compare two strings for their length"
      ],
      "metadata": {
        "id": "Dv_uGyStR9fB"
      },
      "execution_count": null,
      "outputs": []
    },
    {
      "cell_type": "code",
      "source": [
        "# tertiary operator\n",
        "a = 330\n",
        "b = 330\n",
        "print(\"A\") if a > b else print(\"QQ\") if a == 330 else print(\"B\") if a == b else print(\"C\")"
      ],
      "metadata": {
        "id": "wWAt_qNsRujd",
        "outputId": "13a5d15d-d207-4ad1-c829-dfd41e2663ef",
        "colab": {
          "base_uri": "https://localhost:8080/"
        }
      },
      "execution_count": null,
      "outputs": [
        {
          "output_type": "stream",
          "name": "stdout",
          "text": [
            "QQ\n"
          ]
        }
      ]
    },
    {
      "cell_type": "code",
      "source": [
        "llist= [12,23,45,1234,456,56,57,876,976,78979,0,9098]\n",
        "for i in llist:\n",
        "  print(i)"
      ],
      "metadata": {
        "id": "e0RuL0kdDSMg",
        "outputId": "c93da45f-4d61-452f-8e9a-a053c9886bef",
        "colab": {
          "base_uri": "https://localhost:8080/"
        }
      },
      "execution_count": null,
      "outputs": [
        {
          "output_type": "stream",
          "name": "stdout",
          "text": [
            "12\n",
            "23\n",
            "45\n",
            "1234\n",
            "456\n",
            "56\n",
            "57\n",
            "876\n",
            "976\n",
            "78979\n",
            "0\n",
            "9098\n"
          ]
        }
      ]
    },
    {
      "cell_type": "code",
      "source": [
        "# loop -- for loop, enumeration, \n",
        "\n",
        "\n",
        "for i,j in enumerate(llist):\n",
        "  print(\"i is \",i, \"\\tand j is \",j)"
      ],
      "metadata": {
        "id": "cF_MRv6o9ULd",
        "colab": {
          "base_uri": "https://localhost:8080/"
        },
        "outputId": "ac25de29-97bb-42e6-f994-6c305d2c882d"
      },
      "execution_count": null,
      "outputs": [
        {
          "output_type": "stream",
          "name": "stdout",
          "text": [
            "i is  0 \tand j is  12\n",
            "i is  1 \tand j is  23\n",
            "i is  2 \tand j is  45\n",
            "i is  3 \tand j is  1234\n",
            "i is  4 \tand j is  456\n",
            "i is  5 \tand j is  56\n",
            "i is  6 \tand j is  57\n",
            "i is  7 \tand j is  876\n",
            "i is  8 \tand j is  976\n",
            "i is  9 \tand j is  78979\n",
            "i is  10 \tand j is  0\n",
            "i is  11 \tand j is  9098\n"
          ]
        }
      ]
    },
    {
      "cell_type": "code",
      "source": [
        "# exercise 8: print table of 7\n",
        "for i in range(1,11):\n",
        "   print(\"7 x \",i,\" = \",7*i)"
      ],
      "metadata": {
        "id": "Bj9pTHzOSYzw",
        "outputId": "0b2d04d0-27ba-4a7e-efbb-c583cb042343",
        "colab": {
          "base_uri": "https://localhost:8080/"
        }
      },
      "execution_count": null,
      "outputs": [
        {
          "output_type": "stream",
          "name": "stdout",
          "text": [
            "7 x  1  =  7\n",
            "7 x  2  =  14\n",
            "7 x  3  =  21\n",
            "7 x  4  =  28\n",
            "7 x  5  =  35\n",
            "7 x  6  =  42\n",
            "7 x  7  =  49\n",
            "7 x  8  =  56\n",
            "7 x  9  =  63\n",
            "7 x  10  =  70\n"
          ]
        }
      ]
    },
    {
      "cell_type": "code",
      "source": [
        "# exercise 9: declare a list of strings and iterate through it's values using for loop"
      ],
      "metadata": {
        "id": "T5dTcKGxRlVG"
      },
      "execution_count": null,
      "outputs": []
    },
    {
      "cell_type": "code",
      "source": [
        "# exercise 10: make a folder named \"abc\" in your workspace, then create a folder named \"ret\" inside the abc folder. Create two text files inside the ret folder"
      ],
      "metadata": {
        "id": "UnNKvgeRTsHd"
      },
      "execution_count": null,
      "outputs": []
    },
    {
      "cell_type": "code",
      "source": [
        "import os\n",
        "directory=\"abc/ret\"\n",
        "\n",
        "for filename in os.listdir(directory):\n",
        "  print(filename)\n",
        "  if filename.endswith(\".txt\"):\n",
        "    print(\"text file\",filename)"
      ],
      "metadata": {
        "id": "PAWkqinwSjNM",
        "outputId": "6915b19e-8e9d-4a22-858b-7a568613a754",
        "colab": {
          "base_uri": "https://localhost:8080/"
        }
      },
      "execution_count": null,
      "outputs": [
        {
          "output_type": "stream",
          "name": "stdout",
          "text": [
            "12.txt\n",
            "text file 12.txt\n",
            ".ipynb_checkpoints\n",
            "23.txt\n",
            "text file 23.txt\n"
          ]
        }
      ]
    },
    {
      "cell_type": "code",
      "source": [
        "# exercise 10: print count of files in the folder ret"
      ],
      "metadata": {
        "id": "0yVOusviSkuY"
      },
      "execution_count": null,
      "outputs": []
    },
    {
      "cell_type": "markdown",
      "source": [
        "# Regex\n",
        "\n",
        "findall:\tReturns a list containing all matches\n",
        "\n",
        "search:\tReturns a Match object if there is a match anywhere in the string\n",
        "\n",
        "split:\tReturns a list where the string has been split at each match\n",
        "\n",
        "sub:\tReplaces one or many matches with a string\n",
        "\n",
        "[ ]\tA set of characters\t\"[a-m]\"\t\n",
        "\n",
        "\\\tSignals a special sequence (can also be used to escape special characters)\t\"\\d\"\t\n",
        "\n",
        ".\tAny character (except newline character)\t\"he..o\"\t\n",
        "\n",
        "^\tStarts with\t\"^hello\"\t\n",
        "\n",
        "\\$\tEnds with\t\"planet$\"\t\n",
        "\n",
        "\\*\tZero or more occurrences\t\"he.*o\"\t\n",
        "\n",
        "\\+\tOne or more occurrences\t\"he.+o\"\t\n",
        "\n",
        "?\tZero or one occurrences\t\"he.?o\"\t\n",
        "\n",
        "{}\tExactly the specified number of occurrences\t\"he.{2}o\"\t\n",
        "\n",
        "\\|\tEither or\t\"falls|stays\"\t\n",
        "\n",
        "()\tCapture and group"
      ],
      "metadata": {
        "id": "sjRCGz3vcrG4"
      }
    },
    {
      "cell_type": "code",
      "source": [
        "## regular expression  -- string search\n",
        "import re\n",
        "\n",
        "str = \"exercise 10: make a folder named  in your workspace, then create a folder named  inside the abc folder. Create two text files inside the ret folder\"\n",
        "\n",
        "x = re.findall(\"m..e\", str)\n",
        "\n",
        "print(x)\n",
        "\n",
        "\n",
        "\"\"\"\n",
        "[]\tA set of characters\t\"[a-m]\"\t\n",
        "\\\tSignals a special sequence (can also be used to escape special characters)\t\"\\d\"\t\n",
        ".\tAny character (except newline character)\t\"he..o\"\t\n",
        "^\tStarts with\t\"^hello\"\t\n",
        "$\tEnds with\t\"planet$\"\t\n",
        "*\tZero or more occurrences\t\"he.*o\"\t\n",
        "+\tOne or more occurrences\t\"he.+o\"\t\n",
        "?\tZero or one occurrences\t\"he.?o\"\t\n",
        "{}\tExactly the specified number of occurrences\t\"he.{2}o\"\t\n",
        "|\tEither or\t\"falls|stays\"\t\n",
        "()\tCapture and group\"\"\"\n"
      ],
      "metadata": {
        "id": "b20hQ5TqHJW1",
        "colab": {
          "base_uri": "https://localhost:8080/",
          "height": 87
        },
        "outputId": "0a6da34f-5f0a-440d-e9b8-72b0ae8a935c"
      },
      "execution_count": null,
      "outputs": [
        {
          "output_type": "stream",
          "name": "stdout",
          "text": [
            "['make']\n"
          ]
        },
        {
          "output_type": "execute_result",
          "data": {
            "text/plain": [
              "'\\n[]\\tA set of characters\\t\"[a-m]\"\\t\\n\\\\\\tSignals a special sequence (can also be used to escape special characters)\\t\"\\\\d\"\\t\\n.\\tAny character (except newline character)\\t\"he..o\"\\t\\n^\\tStarts with\\t\"^hello\"\\t\\n$\\tEnds with\\t\"planet$\"\\t\\n*\\tZero or more occurrences\\t\"he.*o\"\\t\\n+\\tOne or more occurrences\\t\"he.+o\"\\t\\n?\\tZero or one occurrences\\t\"he.?o\"\\t\\n{}\\tExactly the specified number of occurrences\\t\"he.{2}o\"\\t\\n|\\tEither or\\t\"falls|stays\"\\t\\n()\\tCapture and group'"
            ],
            "application/vnd.google.colaboratory.intrinsic+json": {
              "type": "string"
            }
          },
          "metadata": {},
          "execution_count": 22
        }
      ]
    },
    {
      "cell_type": "code",
      "source": [
        "# method \n",
        "\n",
        "def name_of_function(a,b):\n",
        "  print(\"a is \",a)\n",
        "  print(\"b is \",b)\n",
        "  return a*b\n",
        "\n",
        "x=name_of_function(12,34)\n",
        "\n",
        "print(\"x is \",x)"
      ],
      "metadata": {
        "id": "dWdN4YkR9rA-",
        "colab": {
          "base_uri": "https://localhost:8080/"
        },
        "outputId": "545cf95f-f9b7-4993-b9b4-e682b7d48a37"
      },
      "execution_count": null,
      "outputs": [
        {
          "output_type": "stream",
          "name": "stdout",
          "text": [
            "a is  12\n",
            "b is  34\n",
            "x is  408\n"
          ]
        }
      ]
    },
    {
      "cell_type": "code",
      "source": [
        "# Exercise 11:\n",
        "# write functions for all the basic mathematical operations, and save them as a library,\n",
        "\n",
        "# try importing the library and use it in your code"
      ],
      "metadata": {
        "id": "a3W3l8IZf8UW"
      },
      "execution_count": null,
      "outputs": []
    },
    {
      "cell_type": "markdown",
      "source": [
        "# Lambda function"
      ],
      "metadata": {
        "id": "W9kRUFVkUAde"
      }
    },
    {
      "cell_type": "code",
      "source": [
        "x = lambda a, b, c : a + b + c\n",
        "print(x(5, 6, 2))"
      ],
      "metadata": {
        "id": "OPPtI_LgUBhf"
      },
      "execution_count": null,
      "outputs": []
    },
    {
      "cell_type": "code",
      "source": [
        "\"\"\"\n",
        "Module is a file which contains various Python functions and global variables. It is simply just .py extension file which has python executable code.\n",
        "\n",
        "Package is a collection of modules. It must contains an __init__.py file as a flag so that the python interpreter processes it as such. The __init__.py could be an empty file without causing issues.\n",
        "\n",
        "Library is a collection of packages.\n",
        "\n",
        "Framework is a collection of libraries. This is the architecture of the program.\n",
        "\"\"\""
      ],
      "metadata": {
        "id": "rUHRZbwO96qG"
      },
      "execution_count": null,
      "outputs": []
    },
    {
      "cell_type": "markdown",
      "source": [
        "![FTiMMr2aAAEOSO3.jpg](data:image/jpeg;base64,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)"
      ],
      "metadata": {
        "id": "e-oRoZ4sZWVu"
      }
    },
    {
      "cell_type": "code",
      "source": [
        "\"\"\"\n",
        "ArithmeticError-\tRaised when an error occurs in numeric calculations\n",
        "AssertionError-\tRaised when an assert statement fails\n",
        "AttributeError-\tRaised when attribute reference or assignment fails\n",
        "EOFError-\tRaised when the input() method hits an \"end of file\" condition (EOF)\n",
        "FloatingPointError-\tRaised when a floating point calculation fails\n",
        "GeneratorExit-\tRaised when a generator is closed (with the close() method)\n",
        "ImportError-\tRaised when an imported module does not exist\n",
        "IndentationError-\tRaised when indendation is not correct\n",
        "IndexError-\tRaised when an index of a sequence does not exist\n",
        "KeyError-\tRaised when a key does not exist in a dictionary\n",
        "KeyboardInterrupt-\tRaised when the user presses Ctrl+c, Ctrl+z or Delete\n",
        "LookupError-\tRaised when errors raised cant be found\n",
        "MemoryError-\tRaised when a program runs out of memory\n",
        "NameError-\tRaised when a variable does not exist\n",
        "NotImplementedError-\tRaised when an abstract method requires an inherited class to override the method\n",
        "OSError-\tRaised when a system related operation causes an error\n",
        "OverflowError-\tRaised when the result of a numeric calculation is too large\n",
        "ReferenceError-\tRaised when a weak reference object does not exist\n",
        "RuntimeError-\tRaised when an error occurs that do not belong to any specific expections\n",
        "StopIteration-\tRaised when the next() method of an iterator has no further values\n",
        "SyntaxError-\tRaised when a syntax error occurs\n",
        "TabError-\tRaised when indentation consists of tabs or spaces\n",
        "SystemError-\tRaised when a system error occurs\n",
        "SystemExit-\tRaised when the sys.exit() function is called\n",
        "TypeError-\tRaised when two different types are combined\n",
        "UnboundLocalError-\tRaised when a local variable is referenced before assignment\n",
        "UnicodeError-\tRaised when a unicode problem occurs\n",
        "UnicodeEncodeError-\tRaised when a unicode encoding problem occurs\n",
        "UnicodeDecodeError-\tRaised when a unicode decoding problem occurs\n",
        "UnicodeTranslateError-\tRaised when a unicode translation problem occurs\n",
        "ValueError-\tRaised when there is a wrong value in a specified data type\n",
        "ZeroDivisionError-\tRaised when the second operator in a division is zero\n",
        "\n",
        "\"\"\""
      ],
      "metadata": {
        "id": "95ZpBDf8986G"
      },
      "execution_count": null,
      "outputs": []
    },
    {
      "cell_type": "code",
      "source": [
        "# XML and JSON format\n",
        "\n",
        "\"\"\"\n",
        "<note>\n",
        "  <date>2015-09-01</date>\n",
        "  <hour>08:30</hour>\n",
        "  <to>Tove</to>\n",
        "  <from>Jani</from>\n",
        "  <body>meeting reminder for the weekend!</body>\n",
        "</note>\n",
        "\"\"\"\n",
        "\n",
        "\"\"\"\n",
        "\n",
        "{\n",
        "  \"date\": \"2015-09-01\",\n",
        "  \"hour\": \"08:30\",\n",
        "  \"to\": \"Tove\",\n",
        "  \"from\": \"Jani\",\n",
        "  \"body\": \"meeting reminder for the weekend!\"\n",
        "}\n",
        "\n",
        "\"\"\""
      ],
      "metadata": {
        "id": "PACpaRlI-LB-",
        "colab": {
          "base_uri": "https://localhost:8080/",
          "height": 53
        },
        "outputId": "785fe5ae-fdd5-4735-9d5b-06a431832b7b"
      },
      "execution_count": null,
      "outputs": [
        {
          "output_type": "execute_result",
          "data": {
            "text/plain": [
              "'\\n\\n{\\n  \"date\": \"2015-09-01\",\\n  \"hour\": \"08:30\",\\n  \"to\": \"Tove\",\\n  \"from\": \"Jani\",\\n  \"body\": \"Don\\'t forget me this weekend!\"\\n}\\n\\n'"
            ],
            "application/vnd.google.colaboratory.intrinsic+json": {
              "type": "string"
            }
          },
          "metadata": {},
          "execution_count": 39
        }
      ]
    },
    {
      "cell_type": "code",
      "source": [
        "# txt file reading writing appending\n",
        "\n",
        "f = open(\"demofile.txt\", \"w\")\n",
        "f.close()"
      ],
      "metadata": {
        "id": "1IFu05Xo-OUH"
      },
      "execution_count": null,
      "outputs": []
    },
    {
      "cell_type": "code",
      "source": [
        "f = open(\"demofile.txt\", \"a\")\n",
        "f.write(\"Now the file has more content!\")\n",
        "f.close()\n"
      ],
      "metadata": {
        "id": "C0PP-3fFes7g"
      },
      "execution_count": null,
      "outputs": []
    },
    {
      "cell_type": "code",
      "source": [
        "f = open(\"demofile.txt\", \"r\")\n",
        "print(f.read())"
      ],
      "metadata": {
        "colab": {
          "base_uri": "https://localhost:8080/"
        },
        "id": "Oi3M9mc8e5Zv",
        "outputId": "ac41a096-44a7-4dbf-8f1d-d56722ebc3e6"
      },
      "execution_count": null,
      "outputs": [
        {
          "output_type": "stream",
          "name": "stdout",
          "text": [
            "Now the file has more content!Now the file has more content!Now the file has more content!\n"
          ]
        }
      ]
    },
    {
      "cell_type": "code",
      "source": [
        "# image file manipulation\n"
      ],
      "metadata": {
        "id": "TCg9cD_M-WbH"
      },
      "execution_count": null,
      "outputs": []
    },
    {
      "cell_type": "code",
      "source": [
        "# CSV or excel file read write\n",
        "import pandas\n",
        "\n",
        "df = pandas.read_csv(\"data.csv\")\n",
        "df.head"
      ],
      "metadata": {
        "id": "cFUsnu1w-aC2",
        "outputId": "82ddca52-ee8c-4d28-86c2-1ff745f02ad7",
        "colab": {
          "base_uri": "https://localhost:8080/"
        }
      },
      "execution_count": null,
      "outputs": [
        {
          "output_type": "execute_result",
          "data": {
            "text/plain": [
              "<bound method NDFrame.head of            Car       Model  Volume  Weight  CO2\n",
              "0       Toyoty        Aygo    1000     790   99\n",
              "1   Mitsubishi  Space Star    1200    1160   95\n",
              "2        Skoda      Citigo    1000     929   95\n",
              "3         Fiat         500     900     865   90\n",
              "4         Mini      Cooper    1500    1140  105\n",
              "5           VW         Up!    1000     929  105\n",
              "6        Skoda       Fabia    1400    1109   90\n",
              "7     Mercedes     A-Class    1500    1365   92\n",
              "8         Ford      Fiesta    1500    1112   98\n",
              "9         Audi          A1    1600    1150   99\n",
              "10     Hyundai         I20    1100     980   99\n",
              "11      Suzuki       Swift    1300     990  101\n",
              "12        Ford      Fiesta    1000    1112   99\n",
              "13       Honda       Civic    1600    1252   94\n",
              "14      Hundai         I30    1600    1326   97\n",
              "15        Opel       Astra    1600    1330   97\n",
              "16         BMW           1    1600    1365   99\n",
              "17       Mazda           3    2200    1280  104\n",
              "18       Skoda       Rapid    1600    1119  104\n",
              "19        Ford       Focus    2000    1328  105\n",
              "20        Ford      Mondeo    1600    1584   94\n",
              "21        Opel    Insignia    2000    1428   99\n",
              "22    Mercedes     C-Class    2100    1365   99\n",
              "23       Skoda     Octavia    1600    1415   99\n",
              "24       Volvo         S60    2000    1415   99\n",
              "25    Mercedes         CLA    1500    1465  102\n",
              "26        Audi          A4    2000    1490  104\n",
              "27        Audi          A6    2000    1725  114\n",
              "28       Volvo         V70    1600    1523  109\n",
              "29         BMW           5    2000    1705  114\n",
              "30    Mercedes     E-Class    2100    1605  115\n",
              "31       Volvo        XC70    2000    1746  117\n",
              "32        Ford       B-Max    1600    1235  104\n",
              "33         BMW         216    1600    1390  108\n",
              "34        Opel      Zafira    1600    1405  109\n",
              "35    Mercedes         SLK    2500    1395  120>"
            ]
          },
          "metadata": {},
          "execution_count": 13
        }
      ]
    },
    {
      "cell_type": "code",
      "source": [
        "# exercie: read excel file"
      ],
      "metadata": {
        "colab": {
          "base_uri": "https://localhost:8080/"
        },
        "id": "3wMuoo0VaXKi",
        "outputId": "68f0e6c3-45a7-4685-90b6-99a843439e40"
      },
      "execution_count": null,
      "outputs": [
        {
          "output_type": "execute_result",
          "data": {
            "text/plain": [
              "<bound method NDFrame.head of      Provider \\nCode  Abbr. Provider \\nType                 HEP Type  \\\n",
              "0               1019    JCU             HEP                  Table A   \n",
              "1               1034   MURD             HEP                  Table A   \n",
              "2               1055    UWA             HEP                  Table A   \n",
              "3               1058    UOW             HEP                  Table A   \n",
              "4               2148   NIDA             HEP  Non-university provider   \n",
              "..               ...    ...             ...                      ...   \n",
              "581             8212   PPSY             VET                 NA - VET   \n",
              "582             8213    LIF             VET                 NA - VET   \n",
              "583             8214  YIVIC             VET                 NA - VET   \n",
              "584             8219    AIP             VET                 NA - VET   \n",
              "585             8222     HH             VET                 NA - VET   \n",
              "\n",
              "                                      Trading Name  \\\n",
              "0                            James Cook University   \n",
              "1                               Murdoch University   \n",
              "2              The University of Western Australia   \n",
              "3                         University of Wollongong   \n",
              "4           The National Institute of Dramatic Art   \n",
              "..                                             ...   \n",
              "581          PATHWAYS PSYCHOLOGY INSTITUTE PTY LTD   \n",
              "582                 Learn To Fly Australia Pty Ltd   \n",
              "583  AUSTRALIAN ACADEMY OF HIGHER LEARNING PTY LTD   \n",
              "584    Australian Institute of Professionals (AIP)   \n",
              "585                H&H Accredited Training Pty Ltd   \n",
              "\n",
              "                                            Legal Name Effective \\nFrom Date  \\\n",
              "0                                James Cook University            1987-01-01   \n",
              "1                                   Murdoch University            1987-01-01   \n",
              "2                  The University of Western Australia            1987-01-01   \n",
              "3                         The University of Wollongong            1987-01-02   \n",
              "4               The National Institute of Dramatic Art            1987-01-01   \n",
              "..                                                 ...                   ...   \n",
              "581              PATHWAYS PSYCHOLOGY INSTITUTE PTY LTD            2022-07-19   \n",
              "582                     Learn To Fly Australia Pty Ltd            2022-01-01   \n",
              "583                    TECHNICAL INSTITUTE OF VICTORIA            2022-01-01   \n",
              "584  Australian Institute of Professionals (AIP) Pt...            2022-01-01   \n",
              "585                    H&H Accredited Training Pty Ltd            2021-11-18   \n",
              "\n",
              "    State  \n",
              "0     QLD  \n",
              "1      WA  \n",
              "2      WA  \n",
              "3     NSW  \n",
              "4     NSW  \n",
              "..    ...  \n",
              "581   NSW  \n",
              "582   VIC  \n",
              "583   VIC  \n",
              "584   VIC  \n",
              "585   NSW  \n",
              "\n",
              "[586 rows x 8 columns]>"
            ]
          },
          "metadata": {},
          "execution_count": 15
        }
      ]
    },
    {
      "cell_type": "code",
      "source": [
        "# matplot visualize dataimport matplotlib.pyplot as plt\n",
        "import matplotlib.pyplot as plt\n",
        "x = [5,7,8,7,2,17,2,9,4,11,12,9,6]\n",
        "y = [99,86,87,88,111,86,103,87,94,78,77,85,86]\n",
        "\n",
        "plt.scatter(x, y)\n",
        "plt.show()"
      ],
      "metadata": {
        "id": "X8iyA1N3-u42",
        "outputId": "db05070b-c429-48ae-f87f-a181f758fb3a",
        "colab": {
          "base_uri": "https://localhost:8080/",
          "height": 265
        }
      },
      "execution_count": null,
      "outputs": [
        {
          "output_type": "display_data",
          "data": {
            "text/plain": [
              "<Figure size 432x288 with 1 Axes>"
            ],
            "image/png": "[encoded data removed]"
          },
          "metadata": {
            "needs_background": "light"
          }
        }
      ]
    },
    {
      "cell_type": "code",
      "source": [
        "x = np.arange(0, 50, 0.1)\n",
        "y = np.sin(x)\n",
        "plt.plot(x, y)\n",
        "plt.show"
      ],
      "metadata": {
        "colab": {
          "base_uri": "https://localhost:8080/",
          "height": 282
        },
        "id": "fWYoSGSNukCB",
        "outputId": "8cd20211-45fd-4310-b5eb-f1fff7a4c295"
      },
      "execution_count": 4,
      "outputs": [
        {
          "output_type": "execute_result",
          "data": {
            "text/plain": [
              "<function matplotlib.pyplot.show(*args, **kw)>"
            ]
          },
          "metadata": {},
          "execution_count": 4
        },
        {
          "output_type": "display_data",
          "data": {
            "text/plain": [
              "<Figure size 432x288 with 1 Axes>"
            ],
            "image/png": "[encoded data removed]"
          },
          "metadata": {
            "needs_background": "light"
          }
        }
      ]
    },
    {
      "cell_type": "code",
      "source": [
        "data = {'a': np.arange(50),\n",
        "        'c': np.random.randint(0, 50, 50),\n",
        "        'd': np.random.randn(50)}\n",
        "data['b'] = data['a'] + 10 * np.random.randn(50)\n",
        "data['d'] = np.abs(data['d']) * 100\n",
        "\n",
        "plt.scatter('a', 'b', c='c', s='d', data=data)\n",
        "plt.xlabel('entry a')\n",
        "plt.ylabel('entry b')\n",
        "plt.show()"
      ],
      "metadata": {
        "colab": {
          "base_uri": "https://localhost:8080/",
          "height": 279
        },
        "id": "Q7pzQoouwDzf",
        "outputId": "aca5a3fe-bc08-4633-cb96-4cba201a4863"
      },
      "execution_count": 7,
      "outputs": [
        {
          "output_type": "display_data",
          "data": {
            "text/plain": [
              "<Figure size 432x288 with 1 Axes>"
            ],
            "image/png": "[encoded data removed]"
          },
          "metadata": {
            "needs_background": "light"
          }
        }
      ]
    },
    {
      "cell_type": "code",
      "source": [
        "import numpy as np\n",
        "def func(x):\n",
        "    return x[0]*x[1] * np.sin(x[0])-x[1]* np.cos(x[0])\n",
        "\n",
        "def func1(x):\n",
        "    return  np.sin(x[0]*x[1])\n",
        "            \n",
        "\n",
        "import matplotlib.pyplot as plt\n",
        "from mpl_toolkits.mplot3d import Axes3D\n",
        "\n",
        "x = np.arange(-5, 5,0.01)\n",
        "y = np.arange(-5, 5,0.01)\n",
        "xgrid, ygrid = np.meshgrid(x, y)\n",
        "xy = np.stack([xgrid, ygrid])\n",
        "\n",
        "fig = plt.figure()\n",
        "ax = fig.add_subplot(111, projection='3d')\n",
        "ax.view_init(45, -45)\n",
        "ax.plot_surface(xgrid, ygrid, func1(xy), cmap='terrain')\n",
        "ax.set_xlabel('x')\n",
        "ax.set_ylabel('y')\n",
        "ax.set_zlabel('func(x, y)')\n",
        "plt.savefig('/content/sdf.jpg')"
      ],
      "metadata": {
        "colab": {
          "base_uri": "https://localhost:8080/",
          "height": 248
        },
        "id": "jdijdhY-SXrP",
        "outputId": "22eb0955-e56b-49ec-a450-5e17f5c426d8"
      },
      "execution_count": 15,
      "outputs": [
        {
          "output_type": "display_data",
          "data": {
            "text/plain": [
              "<Figure size 432x288 with 1 Axes>"
            ],
            "image/png": "[encoded data removed]"
          },
          "metadata": {
            "needs_background": "light"
          }
        }
      ]
    },
    {
      "cell_type": "markdown",
      "source": [],
      "metadata": {
        "id": "ft366pEU9Sn6"
      }
    },
    {
      "cell_type": "code",
      "source": [
        "# data fitting\n",
        "\n",
        "import pandas\n",
        "from sklearn import linear_model\n",
        "\n",
        "df = pandas.read_csv(\"data.csv\")\n",
        "#df = df.drop('column_name', axis=1)\n",
        "X = df[['Weight', 'Volume']]\n",
        "y = df['CO2']\n",
        "\n",
        "regr = linear_model.LinearRegression()\n",
        "regr.fit(X, y)\n",
        "\n",
        "#predict the CO2 emission of a car where the weight is 2300kg, and the volume is 1300cm3:\n",
        "predictedCO2 = regr.predict([[2300, 1300]])\n",
        "\n",
        "print(predictedCO2)"
      ],
      "metadata": {
        "id": "vzxTCoKdVxwb",
        "colab": {
          "base_uri": "https://localhost:8080/"
        },
        "outputId": "ea66a755-ffe5-4ad2-906e-90f722493ee1"
      },
      "execution_count": 17,
      "outputs": [
        {
          "output_type": "stream",
          "name": "stdout",
          "text": [
            "[107.2087328]\n"
          ]
        },
        {
          "output_type": "stream",
          "name": "stderr",
          "text": [
            "/usr/local/lib/python3.7/dist-packages/sklearn/base.py:451: UserWarning: X does not have valid feature names, but LinearRegression was fitted with feature names\n",
            "  \"X does not have valid feature names, but\"\n"
          ]
        }
      ]
    },
    {
      "cell_type": "code",
      "source": [
        "from sklearn.cluster import KMeans\n",
        "import numpy as np\n",
        "X = np.array([[1, 2], [2, 4], [3, 0],[10, 2], [13, 4], [9, 0],[1, 12], [2, 14], [3, 10],[10, 12], [13, 14], [19, 1]])\n",
        "ax=[]\n",
        "ay=[]\n",
        "for x,y in X:\n",
        "  ax.append(x)\n",
        "  ay.append(y)\n",
        "\n",
        "print(ax)\n",
        "plt.scatter(ax,ay)\n",
        "plt.xlabel('entry a')\n",
        "plt.ylabel('entry b')\n",
        "plt.show()\n",
        "kmeans = KMeans(n_clusters=2, random_state=0).fit(X)\n",
        "kmeans.labels_\n",
        "\n",
        "kmeans.predict([[0, 0], [12, 3]])\n",
        "kmeans.cluster_centers_"
      ],
      "metadata": {
        "colab": {
          "base_uri": "https://localhost:8080/",
          "height": 331
        },
        "id": "7tG-3uvD10ku",
        "outputId": "5f3d5fff-2e0d-419e-d13a-23a17ecc9d35"
      },
      "execution_count": 27,
      "outputs": [
        {
          "output_type": "stream",
          "name": "stdout",
          "text": [
            "[1, 2, 3, 10, 13, 9, 1, 2, 3, 10, 13, 19]\n"
          ]
        },
        {
          "output_type": "display_data",
          "data": {
            "text/plain": [
              "<Figure size 432x288 with 1 Axes>"
            ],
            "image/png": "[encoded data removed]"
          },
          "metadata": {
            "needs_background": "light"
          }
        },
        {
          "output_type": "execute_result",
          "data": {
            "text/plain": [
              "array([[ 8.14285714,  1.85714286],\n",
              "       [ 5.8       , 12.4       ]])"
            ]
          },
          "metadata": {},
          "execution_count": 27
        }
      ]
    },
    {
      "cell_type": "code",
      "source": [
        "from sklearn import svm\n",
        "import numpy as np\n",
        "clf = svm.SVC()\n",
        "X = np.array([[1, 2], [2, 4], [3, 0],[10, 2], [13, 4], [9, 0],[1, 12], [2, 14], [3, 10],[10, 12], [13, 14], [19, 1]])\n",
        "y = np.array([2,3,3,4,5,3,2,3,4,5,6,7])\n",
        "clf.fit(X, y)\n",
        "clf.predict([[2., 2.]])"
      ],
      "metadata": {
        "id": "LJEKEw7EgJWw",
        "outputId": "8826bbd8-4cf0-43c6-818b-d6a33ce969a0",
        "colab": {
          "base_uri": "https://localhost:8080/"
        }
      },
      "execution_count": 3,
      "outputs": [
        {
          "output_type": "execute_result",
          "data": {
            "text/plain": [
              "array([3])"
            ]
          },
          "metadata": {},
          "execution_count": 3
        }
      ]
    },
    {
      "cell_type": "markdown",
      "source": [
        "**Logistic Regression**\n",
        "\n",
        "from sklearn.linear_model import LogisticRegression\n",
        "\n",
        "**Support Vector Machine**\n",
        "\n",
        "from sklearn.svm import SVC\n",
        "\n",
        "**Naive Bayes (Gaussian, Multinomial)**\n",
        "\n",
        "from sklearn.naive_bayes import GaussianNB\n",
        "from sklearn.naive_bayes import MultinomialNB\n",
        "\n",
        "**Stochastic Gradient Descent Classifier**\n",
        "\n",
        "from sklearn.linear_model import SGDClassifier\n",
        "\n",
        "**KNN (k-nearest neighbor)**\n",
        "\n",
        "from sklearn.neighbors import KNeighborsClassifier\n",
        "\n",
        "**Decision Tree**\n",
        "\n",
        "from sklearn.tree import DecisionTreeClassifier\n",
        "\n",
        "**Random Forest**\n",
        "\n",
        "from sklearn.ensemble import RandomForestClassifier\n",
        "\n",
        "**Gradient Boosting Classifier**\n",
        "\n",
        "from sklearn.ensemble import GradientBoostingClassifier\n",
        "\n",
        "**LGBM Classifier**\n",
        "\n",
        "from lightgbm import LGBMClassifier\n",
        "\n",
        "**XGBoost Classifier**\n",
        "\n",
        "from xgboost.sklearn import XGBClassifier\n",
        "\n",
        "\n",
        "**Linear Regression**\n",
        "\n",
        "from sklearn.linear_model import LinearRegression\n",
        "\n",
        "**LGBM Regressor**\n",
        "\n",
        "from lightgbm import LGBMRegressor\n",
        "\n",
        "**XGBoost Regressor**\n",
        "\n",
        "from xgboost.sklearn import XGBRegressor\n",
        "\n",
        "**CatBoost Regressor**\n",
        "\n",
        "from catboost import CatBoostRegressor\n",
        "\n",
        "**Stochastic Gradient Descent Regression**\n",
        "\n",
        "from sklearn.linear_model import SGDRegressor\n",
        "\n",
        "**Kernel Ridge Regression**\n",
        "\n",
        "from sklearn.kernel_ridge import KernelRidge\n",
        "\n",
        "**Elastic Net Regression**\n",
        "\n",
        "from sklearn.linear_model import ElasticNet\n",
        "\n",
        "**Bayesian Ridge Regression**\n",
        "\n",
        "from sklearn.linear_model import BayesianRidge\n",
        "\n",
        "**Gradient Boosting Regression**\n",
        "\n",
        "from sklearn.ensemble import GradientBoostingRegressor\n",
        "\n",
        "**Support Vector Machine**\n",
        "\n",
        "from sklearn.svm import SVR\n"
      ],
      "metadata": {
        "id": "D1dR6cVqytZc"
      }
    },
    {
      "cell_type": "code",
      "source": [
        "\n",
        "\n",
        "\n",
        "def eggholder(x):\n",
        "    return (-(x[1] + 47) * np.sin(np.sqrt(abs(x[0]/2 + (x[1]  + 47))))\n",
        "            -x[0] * np.sin(np.sqrt(abs(x[0] - (x[1]  + 47)))))\n",
        "\n",
        "bounds = [(-512, 512), (-512, 512)]\n",
        "\n",
        "import matplotlib.pyplot as plt\n",
        "from mpl_toolkits.mplot3d import Axes3D\n",
        "\n",
        "x = np.arange(-512, 513)\n",
        "y = np.arange(-512, 513)\n",
        "xgrid, ygrid = np.meshgrid(x, y)\n",
        "xy = np.stack([xgrid, ygrid])\n",
        "\n",
        "fig = plt.figure()\n",
        "ax = fig.add_subplot(111, projection='3d')\n",
        "ax.view_init(45, -45)\n",
        "ax.plot_surface(xgrid, ygrid, eggholder(xy), cmap='terrain')\n",
        "ax.set_xlabel('x')\n",
        "ax.set_ylabel('y')\n",
        "ax.set_zlabel('eggholder(x, y)')\n",
        "plt.show()\n",
        "from scipy import optimize\n",
        "results = dict()\n",
        "results['shgo'] = optimize.shgo(eggholder, bounds)\n",
        "print(\"shgo \" ,results['shgo'].x)\n",
        "\n",
        "results['DA'] = optimize.dual_annealing(eggholder, bounds)\n",
        "print(\"DA\",results['DA'].x)"
      ],
      "metadata": {
        "colab": {
          "base_uri": "https://localhost:8080/",
          "height": 283
        },
        "id": "-ry7s6OJ8IqW",
        "outputId": "a44a8372-3702-4d82-a78d-85e937b5e0ad"
      },
      "execution_count": null,
      "outputs": [
        {
          "output_type": "display_data",
          "data": {
            "text/plain": [
              "<Figure size 432x288 with 1 Axes>"
            ],
            "image/png": "[encoded data removed]"
          },
          "metadata": {
            "needs_background": "light"
          }
        },
        {
          "output_type": "stream",
          "name": "stdout",
          "text": [
            "shgo  [439.48097554 453.97741501]\n",
            "DA [347.32698363 499.41540727]\n"
          ]
        }
      ]
    },
    {
      "cell_type": "code",
      "source": [
        "from scipy.optimize import NonlinearConstraint, Bounds\n",
        "from scipy.optimize import rosen, differential_evolution\n",
        "import numpy as np\n",
        "def constr_f(x):\n",
        "    return np.array(x[0] + x[1])\n",
        "# the sum of x[0] and x[1] must be less than 1.9\n",
        "nlc = NonlinearConstraint(constr_f, -np.inf, 1.9)\n",
        "# specify limits using a `Bounds` object.\n",
        "bounds = Bounds([0., 0.], [2., 2.])\n",
        "result = differential_evolution(rosen, bounds, constraints=(nlc),\n",
        "                                seed=1)\n",
        "result.x, result.fun"
      ],
      "metadata": {
        "id": "tT_H90YfV5Hm",
        "colab": {
          "base_uri": "https://localhost:8080/"
        },
        "outputId": "d75ae9a6-2d1f-4685-9351-6c5f4cbff844"
      },
      "execution_count": null,
      "outputs": [
        {
          "output_type": "stream",
          "name": "stderr",
          "text": [
            "/usr/local/lib/python3.7/dist-packages/scipy/optimize/_hessian_update_strategy.py:186: UserWarning: delta_grad == 0.0. Check if the approximated function is linear. If the function is linear better results can be obtained by defining the Hessian as zero instead of using quasi-Newton approximations.\n",
            "  'approximations.', UserWarning)\n"
          ]
        },
        {
          "output_type": "execute_result",
          "data": {
            "text/plain": [
              "(array([0.96627243, 0.93371891]), 0.0011376819954983107)"
            ]
          },
          "metadata": {},
          "execution_count": 5
        }
      ]
    },
    {
      "cell_type": "code",
      "source": [
        "def ackley(x):\n",
        "    arg1 = -0.2 * np.sqrt(0.5 * (x[0] ** 2 + x[1] ** 2))\n",
        "    arg2 = 0.5 * (np.cos(2. * np.pi * x[0]) + np.cos(2. * np.pi * x[1]))\n",
        "    return -20. * np.exp(arg1) - np.exp(arg2) + 20. + np.e\n",
        "bounds = [(-5, 5), (-5, 5)]\n",
        "result = differential_evolution(ackley, bounds, seed=1)\n",
        "result.x, result.fun, result.nfev"
      ],
      "metadata": {
        "colab": {
          "base_uri": "https://localhost:8080/"
        },
        "id": "oNXzPnNn7dWu",
        "outputId": "882ee1ca-83e6-45eb-d05f-8c147529c67a"
      },
      "execution_count": null,
      "outputs": [
        {
          "output_type": "execute_result",
          "data": {
            "text/plain": [
              "(array([0., 0.]), 4.440892098500626e-16, 3063)"
            ]
          },
          "metadata": {},
          "execution_count": 6
        }
      ]
    }
  ]
}